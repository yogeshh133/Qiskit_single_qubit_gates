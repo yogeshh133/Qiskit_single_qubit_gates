{
  "cells": [
    {
      "cell_type": "code",
      "execution_count": 2,
      "metadata": {
        "id": "NDIp-d-jWgRX"
      },
      "outputs": [],
      "source": [
        "# Single-Qubit Gate Operations (Qiskit)\n",
        "# Objective: Explore how single-qubit gates transform quantum states.\n",
        "\n",
        "# Step 1: Install required packages (only once per runtime)\n",
        "!pip install qiskit qiskit-aer --quiet --upgrade"
      ]
    },
    {
      "cell_type": "code",
      "execution_count": 3,
      "metadata": {
        "id": "lyxuh3wWXKz2"
      },
      "outputs": [],
      "source": [
        "# Step 2: Import necessary libraries\n",
        "from qiskit import QuantumCircuit, transpile\n",
        "from qiskit_aer import AerSimulator\n",
        "from qiskit.visualization import plot_histogram, plot_bloch_multivector\n",
        "from qiskit.quantum_info import Statevector\n",
        "import matplotlib.pyplot as plt"
      ]
    },
    {
      "cell_type": "code",
      "execution_count": 4,
      "metadata": {
        "id": "kY9-473dXKlr"
      },
      "outputs": [],
      "source": [
        "# Step 3: Initialize simulator\n",
        "sim = AerSimulator()"
      ]
    },
    {
      "cell_type": "code",
      "execution_count": 5,
      "metadata": {
        "id": "hr6JFLr7XKiK"
      },
      "outputs": [],
      "source": [
        "# Step 4: Create a single-qubit circuit with one classical bit\n",
        "qc = QuantumCircuit(1, 1)"
      ]
    },
    {
      "cell_type": "code",
      "execution_count": 6,
      "metadata": {
        "colab": {
          "base_uri": "https://localhost:8080/"
        },
        "id": "Pr2Dq34hXKf7",
        "outputId": "3a6f15e5-73aa-43b0-b1cb-acb43fe8ecef"
      },
      "outputs": [
        {
          "data": {
            "text/plain": [
              "<qiskit.circuit.instructionset.InstructionSet at 0x7f1cae4c8490>"
            ]
          },
          "execution_count": 6,
          "metadata": {},
          "output_type": "execute_result"
        }
      ],
      "source": [
        "# Step 5: Apply sequence of single-qubit gates\n",
        "qc.x(0)        # Pauli-X (NOT gate)\n",
        "qc.h(0)        # Hadamard (superposition)\n",
        "qc.s(0)        # Phase gate (π/2)\n",
        "qc.t(0)        # T gate (π/4)\n",
        "qc.rz(0.5, 0)  # Rotation around Z-axis by 0.5 radians"
      ]
    },
    {
      "cell_type": "code",
      "execution_count": 7,
      "metadata": {
        "id": "E9aZSgEsXKcX"
      },
      "outputs": [],
      "source": [
        "# Step 6: Measure final state\n",
        "qc.measure_all()"
      ]
    },
    {
      "cell_type": "code",
      "execution_count": 8,
      "metadata": {
        "colab": {
          "base_uri": "https://localhost:8080/"
        },
        "id": "E6rUCd-8XKZk",
        "outputId": "3c8e67bd-5e57-460f-e896-1c0d6b7fe283"
      },
      "outputs": [
        {
          "name": "stdout",
          "output_type": "stream",
          "text": [
            "Quantum Circuit:\n",
            "        ┌───┐┌───┐┌───┐┌───┐┌─────────┐ ░ ┌─┐\n",
            "     q: ┤ X ├┤ H ├┤ S ├┤ T ├┤ Rz(0.5) ├─░─┤M├\n",
            "        └───┘└───┘└───┘└───┘└─────────┘ ░ └╥┘\n",
            "   c: 1/═══════════════════════════════════╬═\n",
            "                                           ║ \n",
            "meas: 1/═══════════════════════════════════╩═\n",
            "                                           0 \n"
          ]
        }
      ],
      "source": [
        "# Step 7: Display the circuit\n",
        "print(\"Quantum Circuit:\")\n",
        "print(qc.draw())"
      ]
    },
    {
      "cell_type": "code",
      "execution_count": 9,
      "metadata": {
        "id": "DkuMRIYeXKQW"
      },
      "outputs": [],
      "source": [
        "# Step 8: Run simulation\n",
        "compiled = transpile(qc, sim)\n",
        "result = sim.run(compiled, shots=1024).result()"
      ]
    },
    {
      "cell_type": "code",
      "execution_count": 10,
      "metadata": {
        "colab": {
          "base_uri": "https://localhost:8080/"
        },
        "id": "LcE_TOFmXKDS",
        "outputId": "7cc64ddc-130a-43a5-f311-a91500abc3ab"
      },
      "outputs": [
        {
          "name": "stdout",
          "output_type": "stream",
          "text": [
            "\n",
            "Measurement Counts: {'0 0': 493, '1 0': 531}\n"
          ]
        }
      ],
      "source": [
        "# Step 9: Display measurement results\n",
        "counts = result.get_counts()\n",
        "print(\"\\nMeasurement Counts:\", counts)"
      ]
    },
    {
      "cell_type": "code",
      "execution_count": 11,
      "metadata": {
        "id": "GLwaxCrrXJwb"
      },
      "outputs": [],
      "source": [
        "# Step 10: Visualize results as a histogram\n",
        "plot_histogram(counts)\n",
        "plt.show()"
      ]
    },
    {
      "cell_type": "code",
      "execution_count": 12,
      "metadata": {
        "id": "H-CmCKIcXkL5"
      },
      "outputs": [],
      "source": [
        "# Step 11 (Optional): Visualize state on Bloch sphere\n",
        "# Remove measurement for statevector visualization\n",
        "qc_bloch = QuantumCircuit(1)\n",
        "qc_bloch.x(0)\n",
        "qc_bloch.h(0)\n",
        "qc_bloch.s(0)\n",
        "qc_bloch.t(0)\n",
        "qc_bloch.rz(0.5, 0)\n",
        "\n",
        "state = Statevector(qc_bloch)\n",
        "plot_bloch_multivector(state)\n",
        "plt.show()"
      ]
    }
  ],
  "metadata": {
    "colab": {
      "provenance": []
    },
    "kernelspec": {
      "display_name": "Python 3",
      "name": "python3"
    },
    "language_info": {
      "name": "python"
    }
  },
  "nbformat": 4,
  "nbformat_minor": 0
}
